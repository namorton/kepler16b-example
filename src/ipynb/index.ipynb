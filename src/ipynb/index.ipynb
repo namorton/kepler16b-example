{
 "cells": [
  {
   "cell_type": "markdown",
   "metadata": {},
   "source": [
    "# Kepler16b\n",
    "The Kepler16b project is developing a hypothetical mission to an exoplanet that is millions of light years away."
   ]
  }
 ],
 "metadata": {
  "kernelspec": {
   "display_name": "Python 3 (ipykernel)",
   "language": "python",
   "name": "python3"
  }
 },
 "nbformat": 4,
 "nbformat_minor": 2
}
